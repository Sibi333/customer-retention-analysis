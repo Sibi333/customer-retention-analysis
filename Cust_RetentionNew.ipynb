{
 "cells": [
  {
   "cell_type": "code",
   "execution_count": 1,
   "metadata": {},
   "outputs": [],
   "source": [
    "import pandas as pd\n",
    "import numpy as np\n",
    "import seaborn as sns\n",
    "import matplotlib.pyplot as plt\n",
    "%matplotlib inline\n",
    "import warnings\n",
    "warnings.filterwarnings(\"ignore\")"
   ]
  },
  {
   "cell_type": "code",
   "execution_count": 2,
   "metadata": {},
   "outputs": [],
   "source": [
    "import datetime as dt"
   ]
  },
  {
   "cell_type": "code",
   "execution_count": 3,
   "metadata": {},
   "outputs": [],
   "source": [
    "import cx_Oracle as orc\n",
    "import os\n",
    "from sqlalchemy import types, create_engine"
   ]
  },
  {
   "cell_type": "markdown",
   "metadata": {},
   "source": [
    "### Connect to Oracle database AWE - UKSR1_ANONYMIZED to fetch required data"
   ]
  },
  {
   "cell_type": "code",
   "execution_count": 4,
   "metadata": {},
   "outputs": [],
   "source": [
    "# Make DSN address\n",
    "dsn = orc.makedsn('hostname', 'port', service_name='servicename')\n",
    "# Connect to DSN\n",
    "conn = orc.connect(user='username', password='password', dsn=dsn)"
   ]
  },
  {
   "cell_type": "code",
   "execution_count": 5,
   "metadata": {},
   "outputs": [],
   "source": [
    "sql_query = \"\"\"SELECT \n",
    "  EMAIL AS CUSTOMER_ID,\n",
    "  ORDER_NUMBER,\n",
    "  DELIVERY_WAY,\n",
    "  TOT_ORDER_VALUE,\n",
    "  TRUNC(ORDER_DATE) AS ORDER_DATE\n",
    "FROM\n",
    "  \"PRD_ODI_AWE\".\"UKSR1_ANONYMIZED\"\n",
    "WHERE\n",
    "  ORDER_DATE >= TO_DATE('01.09.16', 'DD.MM.YY')\"\"\""
   ]
  },
  {
   "cell_type": "code",
   "execution_count": 6,
   "metadata": {},
   "outputs": [],
   "source": [
    "original_df = pd.read_sql(sql_query, conn)"
   ]
  },
  {
   "cell_type": "code",
   "execution_count": 7,
   "metadata": {},
   "outputs": [
    {
     "data": {
      "text/html": [
       "<div>\n",
       "<style scoped>\n",
       "    .dataframe tbody tr th:only-of-type {\n",
       "        vertical-align: middle;\n",
       "    }\n",
       "\n",
       "    .dataframe tbody tr th {\n",
       "        vertical-align: top;\n",
       "    }\n",
       "\n",
       "    .dataframe thead th {\n",
       "        text-align: right;\n",
       "    }\n",
       "</style>\n",
       "<table border=\"1\" class=\"dataframe\">\n",
       "  <thead>\n",
       "    <tr style=\"text-align: right;\">\n",
       "      <th></th>\n",
       "      <th>CUSTOMER_ID</th>\n",
       "      <th>ORDER_NUMBER</th>\n",
       "      <th>DELIVERY_WAY</th>\n",
       "      <th>TOT_ORDER_VALUE</th>\n",
       "      <th>ORDER_DATE</th>\n",
       "    </tr>\n",
       "  </thead>\n",
       "  <tbody>\n",
       "    <tr>\n",
       "      <th>0</th>\n",
       "      <td>1DDBBB23CF7FBFC6E6C01417D760BFD5F70BC942</td>\n",
       "      <td>1028888157</td>\n",
       "      <td>PARCEL</td>\n",
       "      <td>37.35</td>\n",
       "      <td>2019-04-26</td>\n",
       "    </tr>\n",
       "    <tr>\n",
       "      <th>1</th>\n",
       "      <td>C20FAEFB67F04E93E1E62520073815351CCD6803</td>\n",
       "      <td>1027897152</td>\n",
       "      <td>PARCEL</td>\n",
       "      <td>90.41</td>\n",
       "      <td>2019-04-26</td>\n",
       "    </tr>\n",
       "    <tr>\n",
       "      <th>2</th>\n",
       "      <td>5A52B990712FBBB3AF1147EAAE119521D992692F</td>\n",
       "      <td>1029271275</td>\n",
       "      <td>PARCEL</td>\n",
       "      <td>83.88</td>\n",
       "      <td>2019-04-28</td>\n",
       "    </tr>\n",
       "    <tr>\n",
       "      <th>3</th>\n",
       "      <td>B9766B56E1D8502843A6C160787BF2F47BDCB95A</td>\n",
       "      <td>1029297717</td>\n",
       "      <td>PARCEL</td>\n",
       "      <td>83.86</td>\n",
       "      <td>2019-04-29</td>\n",
       "    </tr>\n",
       "    <tr>\n",
       "      <th>4</th>\n",
       "      <td>CADEA044A42B1499BE2D7FDF2B172D963CE06D0B</td>\n",
       "      <td>1029326497</td>\n",
       "      <td>TRUCK</td>\n",
       "      <td>365.94</td>\n",
       "      <td>2019-04-29</td>\n",
       "    </tr>\n",
       "  </tbody>\n",
       "</table>\n",
       "</div>"
      ],
      "text/plain": [
       "                                CUSTOMER_ID  ORDER_NUMBER DELIVERY_WAY  \\\n",
       "0  1DDBBB23CF7FBFC6E6C01417D760BFD5F70BC942    1028888157       PARCEL   \n",
       "1  C20FAEFB67F04E93E1E62520073815351CCD6803    1027897152       PARCEL   \n",
       "2  5A52B990712FBBB3AF1147EAAE119521D992692F    1029271275       PARCEL   \n",
       "3  B9766B56E1D8502843A6C160787BF2F47BDCB95A    1029297717       PARCEL   \n",
       "4  CADEA044A42B1499BE2D7FDF2B172D963CE06D0B    1029326497        TRUCK   \n",
       "\n",
       "   TOT_ORDER_VALUE ORDER_DATE  \n",
       "0            37.35 2019-04-26  \n",
       "1            90.41 2019-04-26  \n",
       "2            83.88 2019-04-28  \n",
       "3            83.86 2019-04-29  \n",
       "4           365.94 2019-04-29  "
      ]
     },
     "execution_count": 7,
     "metadata": {},
     "output_type": "execute_result"
    }
   ],
   "source": [
    "df1 = original_df.copy()\n",
    "df1.head()"
   ]
  },
  {
   "cell_type": "code",
   "execution_count": null,
   "metadata": {},
   "outputs": [],
   "source": [
    "df1.info()"
   ]
  },
  {
   "cell_type": "code",
   "execution_count": 9,
   "metadata": {},
   "outputs": [
    {
     "data": {
      "text/plain": [
       "CUSTOMER_ID         3114\n",
       "ORDER_NUMBER           0\n",
       "DELIVERY_WAY       50840\n",
       "TOT_ORDER_VALUE        0\n",
       "ORDER_DATE             0\n",
       "dtype: int64"
      ]
     },
     "execution_count": 9,
     "metadata": {},
     "output_type": "execute_result"
    }
   ],
   "source": [
    "df1.isnull().sum()"
   ]
  },
  {
   "cell_type": "markdown",
   "metadata": {},
   "source": [
    "### Remove data with null customer IDs"
   ]
  },
  {
   "cell_type": "code",
   "execution_count": 10,
   "metadata": {},
   "outputs": [],
   "source": [
    "df1 = df1.dropna(subset=['CUSTOMER_ID'])"
   ]
  },
  {
   "cell_type": "markdown",
   "metadata": {},
   "source": [
    "### Remove orders within 30 days"
   ]
  },
  {
   "cell_type": "code",
   "execution_count": 11,
   "metadata": {},
   "outputs": [],
   "source": [
    "# For customers buying \"within the next 30 days” only the first purchase along with sales value is considered \n",
    "df2 = df1.copy()"
   ]
  },
  {
   "cell_type": "code",
   "execution_count": 12,
   "metadata": {},
   "outputs": [],
   "source": [
    "df2 = df2.sort_values(['CUSTOMER_ID', 'ORDER_DATE'])"
   ]
  },
  {
   "cell_type": "code",
   "execution_count": 13,
   "metadata": {},
   "outputs": [],
   "source": [
    "df2['CUSTOMER_ID_COPY'] = df2['CUSTOMER_ID']\n",
    "df2['ORDER_DATE_COPY'] = df2['ORDER_DATE']\n",
    "df2['CUSTOMER_ID_COPY'] = df2['CUSTOMER_ID'].shift(1)\n",
    "df2['ORDER_DATE_COPY'] = df2['ORDER_DATE'].shift(1)"
   ]
  },
  {
   "cell_type": "code",
   "execution_count": 14,
   "metadata": {},
   "outputs": [],
   "source": [
    "df2['DATE_DIFF'] = 5000\n",
    "df2.loc[df2['CUSTOMER_ID'] == df2['CUSTOMER_ID_COPY'], 'DATE_DIFF'] = (df2['ORDER_DATE'] - df2['ORDER_DATE_COPY']).dt.days"
   ]
  },
  {
   "cell_type": "code",
   "execution_count": 15,
   "metadata": {},
   "outputs": [],
   "source": [
    "df2 = df2[df2['DATE_DIFF'] > 30]"
   ]
  },
  {
   "cell_type": "code",
   "execution_count": 16,
   "metadata": {},
   "outputs": [],
   "source": [
    "df2 = df2.drop(['CUSTOMER_ID_COPY', 'ORDER_DATE_COPY', 'DATE_DIFF'], axis=1)"
   ]
  },
  {
   "cell_type": "code",
   "execution_count": null,
   "metadata": {},
   "outputs": [],
   "source": [
    "df2['FY'] = 0\n",
    "df2.loc[(df2['ORDER_DATE'] >= '2016-09-01') & (df2['ORDER_DATE'] < '2017-09-01'), 'FY'] = 'FY17'\n",
    "df2.loc[(df2['ORDER_DATE'] >= '2017-09-01') & (df2['ORDER_DATE'] < '2018-09-01'), 'FY'] = 'FY18'\n",
    "df2.loc[(df2['ORDER_DATE'] >= '2018-09-01') & (df2['ORDER_DATE'] < '2019-09-01'), 'FY'] = 'FY19'\n",
    "df2.loc[(df2['ORDER_DATE'] >= '2019-09-01') & (df2['ORDER_DATE'] < '2020-09-01'), 'FY'] = 'FY20'"
   ]
  },
  {
   "cell_type": "markdown",
   "metadata": {},
   "source": [
    "### Cohort analysis - creating cohorts based on order period"
   ]
  },
  {
   "cell_type": "code",
   "execution_count": 17,
   "metadata": {},
   "outputs": [
    {
     "data": {
      "text/html": [
       "<div>\n",
       "<style scoped>\n",
       "    .dataframe tbody tr th:only-of-type {\n",
       "        vertical-align: middle;\n",
       "    }\n",
       "\n",
       "    .dataframe tbody tr th {\n",
       "        vertical-align: top;\n",
       "    }\n",
       "\n",
       "    .dataframe thead th {\n",
       "        text-align: right;\n",
       "    }\n",
       "</style>\n",
       "<table border=\"1\" class=\"dataframe\">\n",
       "  <thead>\n",
       "    <tr style=\"text-align: right;\">\n",
       "      <th></th>\n",
       "      <th>CUSTOMER_ID</th>\n",
       "      <th>ORDER_NUMBER</th>\n",
       "      <th>DELIVERY_WAY</th>\n",
       "      <th>TOT_ORDER_VALUE</th>\n",
       "      <th>ORDER_DATE</th>\n",
       "    </tr>\n",
       "  </thead>\n",
       "  <tbody>\n",
       "    <tr>\n",
       "      <th>3565529</th>\n",
       "      <td>000005FBDE326C41E4E704C8B358BF34E8EDFEA6</td>\n",
       "      <td>948422457</td>\n",
       "      <td>TRUCK</td>\n",
       "      <td>216.00</td>\n",
       "      <td>2018-04-10</td>\n",
       "    </tr>\n",
       "    <tr>\n",
       "      <th>2757213</th>\n",
       "      <td>000005FBDE326C41E4E704C8B358BF34E8EDFEA6</td>\n",
       "      <td>984927381</td>\n",
       "      <td>PARCEL</td>\n",
       "      <td>53.88</td>\n",
       "      <td>2018-07-24</td>\n",
       "    </tr>\n",
       "    <tr>\n",
       "      <th>3877881</th>\n",
       "      <td>000005FBDE326C41E4E704C8B358BF34E8EDFEA6</td>\n",
       "      <td>1000631129</td>\n",
       "      <td>PARCEL</td>\n",
       "      <td>8.89</td>\n",
       "      <td>2018-11-27</td>\n",
       "    </tr>\n",
       "    <tr>\n",
       "      <th>1147355</th>\n",
       "      <td>000005FBDE326C41E4E704C8B358BF34E8EDFEA6</td>\n",
       "      <td>1014957404</td>\n",
       "      <td>PARCEL</td>\n",
       "      <td>72.86</td>\n",
       "      <td>2019-02-17</td>\n",
       "    </tr>\n",
       "    <tr>\n",
       "      <th>4242710</th>\n",
       "      <td>0000072CE05DB4ADC5F347E6BFCAF2D2D6812823</td>\n",
       "      <td>890878046</td>\n",
       "      <td>PARCEL</td>\n",
       "      <td>31.90</td>\n",
       "      <td>2017-09-24</td>\n",
       "    </tr>\n",
       "  </tbody>\n",
       "</table>\n",
       "</div>"
      ],
      "text/plain": [
       "                                      CUSTOMER_ID  ORDER_NUMBER DELIVERY_WAY  \\\n",
       "3565529  000005FBDE326C41E4E704C8B358BF34E8EDFEA6     948422457        TRUCK   \n",
       "2757213  000005FBDE326C41E4E704C8B358BF34E8EDFEA6     984927381       PARCEL   \n",
       "3877881  000005FBDE326C41E4E704C8B358BF34E8EDFEA6    1000631129       PARCEL   \n",
       "1147355  000005FBDE326C41E4E704C8B358BF34E8EDFEA6    1014957404       PARCEL   \n",
       "4242710  0000072CE05DB4ADC5F347E6BFCAF2D2D6812823     890878046       PARCEL   \n",
       "\n",
       "         TOT_ORDER_VALUE ORDER_DATE  \n",
       "3565529           216.00 2018-04-10  \n",
       "2757213            53.88 2018-07-24  \n",
       "3877881             8.89 2018-11-27  \n",
       "1147355            72.86 2019-02-17  \n",
       "4242710            31.90 2017-09-24  "
      ]
     },
     "execution_count": 17,
     "metadata": {},
     "output_type": "execute_result"
    }
   ],
   "source": [
    "df3 = df2.copy()\n",
    "df3.head()"
   ]
  },
  {
   "cell_type": "code",
   "execution_count": null,
   "metadata": {},
   "outputs": [],
   "source": [
    "df3['DELIVERY_WAY'].value_counts()"
   ]
  },
  {
   "cell_type": "code",
   "execution_count": null,
   "metadata": {},
   "outputs": [],
   "source": [
    "df3.info()"
   ]
  },
  {
   "cell_type": "code",
   "execution_count": 20,
   "metadata": {},
   "outputs": [
    {
     "data": {
      "text/html": [
       "<div>\n",
       "<style scoped>\n",
       "    .dataframe tbody tr th:only-of-type {\n",
       "        vertical-align: middle;\n",
       "    }\n",
       "\n",
       "    .dataframe tbody tr th {\n",
       "        vertical-align: top;\n",
       "    }\n",
       "\n",
       "    .dataframe thead th {\n",
       "        text-align: right;\n",
       "    }\n",
       "</style>\n",
       "<table border=\"1\" class=\"dataframe\">\n",
       "  <thead>\n",
       "    <tr style=\"text-align: right;\">\n",
       "      <th></th>\n",
       "      <th>CUSTOMER_ID</th>\n",
       "      <th>ORDER_NUMBER</th>\n",
       "      <th>DELIVERY_WAY</th>\n",
       "      <th>TOT_ORDER_VALUE</th>\n",
       "      <th>ORDER_DATE</th>\n",
       "      <th>ORDER_PERIOD</th>\n",
       "    </tr>\n",
       "  </thead>\n",
       "  <tbody>\n",
       "    <tr>\n",
       "      <th>3565529</th>\n",
       "      <td>000005FBDE326C41E4E704C8B358BF34E8EDFEA6</td>\n",
       "      <td>948422457</td>\n",
       "      <td>TRUCK</td>\n",
       "      <td>216.00</td>\n",
       "      <td>2018-04-10</td>\n",
       "      <td>2018-04</td>\n",
       "    </tr>\n",
       "    <tr>\n",
       "      <th>2757213</th>\n",
       "      <td>000005FBDE326C41E4E704C8B358BF34E8EDFEA6</td>\n",
       "      <td>984927381</td>\n",
       "      <td>PARCEL</td>\n",
       "      <td>53.88</td>\n",
       "      <td>2018-07-24</td>\n",
       "      <td>2018-07</td>\n",
       "    </tr>\n",
       "    <tr>\n",
       "      <th>3877881</th>\n",
       "      <td>000005FBDE326C41E4E704C8B358BF34E8EDFEA6</td>\n",
       "      <td>1000631129</td>\n",
       "      <td>PARCEL</td>\n",
       "      <td>8.89</td>\n",
       "      <td>2018-11-27</td>\n",
       "      <td>2018-11</td>\n",
       "    </tr>\n",
       "    <tr>\n",
       "      <th>1147355</th>\n",
       "      <td>000005FBDE326C41E4E704C8B358BF34E8EDFEA6</td>\n",
       "      <td>1014957404</td>\n",
       "      <td>PARCEL</td>\n",
       "      <td>72.86</td>\n",
       "      <td>2019-02-17</td>\n",
       "      <td>2019-02</td>\n",
       "    </tr>\n",
       "    <tr>\n",
       "      <th>4242710</th>\n",
       "      <td>0000072CE05DB4ADC5F347E6BFCAF2D2D6812823</td>\n",
       "      <td>890878046</td>\n",
       "      <td>PARCEL</td>\n",
       "      <td>31.90</td>\n",
       "      <td>2017-09-24</td>\n",
       "      <td>2017-09</td>\n",
       "    </tr>\n",
       "  </tbody>\n",
       "</table>\n",
       "</div>"
      ],
      "text/plain": [
       "                                      CUSTOMER_ID  ORDER_NUMBER DELIVERY_WAY  \\\n",
       "3565529  000005FBDE326C41E4E704C8B358BF34E8EDFEA6     948422457        TRUCK   \n",
       "2757213  000005FBDE326C41E4E704C8B358BF34E8EDFEA6     984927381       PARCEL   \n",
       "3877881  000005FBDE326C41E4E704C8B358BF34E8EDFEA6    1000631129       PARCEL   \n",
       "1147355  000005FBDE326C41E4E704C8B358BF34E8EDFEA6    1014957404       PARCEL   \n",
       "4242710  0000072CE05DB4ADC5F347E6BFCAF2D2D6812823     890878046       PARCEL   \n",
       "\n",
       "         TOT_ORDER_VALUE ORDER_DATE ORDER_PERIOD  \n",
       "3565529           216.00 2018-04-10      2018-04  \n",
       "2757213            53.88 2018-07-24      2018-07  \n",
       "3877881             8.89 2018-11-27      2018-11  \n",
       "1147355            72.86 2019-02-17      2019-02  \n",
       "4242710            31.90 2017-09-24      2017-09  "
      ]
     },
     "execution_count": 20,
     "metadata": {},
     "output_type": "execute_result"
    }
   ],
   "source": [
    "# Create a order period column based on the order date\n",
    "df3['ORDER_PERIOD'] = df3.ORDER_DATE.apply(lambda x: x.strftime('%Y-%m'))\n",
    "df3.head()"
   ]
  },
  {
   "cell_type": "code",
   "execution_count": 21,
   "metadata": {},
   "outputs": [
    {
     "data": {
      "text/html": [
       "<div>\n",
       "<style scoped>\n",
       "    .dataframe tbody tr th:only-of-type {\n",
       "        vertical-align: middle;\n",
       "    }\n",
       "\n",
       "    .dataframe tbody tr th {\n",
       "        vertical-align: top;\n",
       "    }\n",
       "\n",
       "    .dataframe thead th {\n",
       "        text-align: right;\n",
       "    }\n",
       "</style>\n",
       "<table border=\"1\" class=\"dataframe\">\n",
       "  <thead>\n",
       "    <tr style=\"text-align: right;\">\n",
       "      <th></th>\n",
       "      <th>CUSTOMER_ID</th>\n",
       "      <th>ORDER_NUMBER</th>\n",
       "      <th>DELIVERY_WAY</th>\n",
       "      <th>TOT_ORDER_VALUE</th>\n",
       "      <th>ORDER_DATE</th>\n",
       "      <th>ORDER_PERIOD</th>\n",
       "      <th>COHORT_GROUP</th>\n",
       "    </tr>\n",
       "  </thead>\n",
       "  <tbody>\n",
       "    <tr>\n",
       "      <th>0</th>\n",
       "      <td>000005FBDE326C41E4E704C8B358BF34E8EDFEA6</td>\n",
       "      <td>948422457</td>\n",
       "      <td>TRUCK</td>\n",
       "      <td>216.00</td>\n",
       "      <td>2018-04-10</td>\n",
       "      <td>2018-04</td>\n",
       "      <td>2018-04</td>\n",
       "    </tr>\n",
       "    <tr>\n",
       "      <th>1</th>\n",
       "      <td>000005FBDE326C41E4E704C8B358BF34E8EDFEA6</td>\n",
       "      <td>984927381</td>\n",
       "      <td>PARCEL</td>\n",
       "      <td>53.88</td>\n",
       "      <td>2018-07-24</td>\n",
       "      <td>2018-07</td>\n",
       "      <td>2018-04</td>\n",
       "    </tr>\n",
       "    <tr>\n",
       "      <th>2</th>\n",
       "      <td>000005FBDE326C41E4E704C8B358BF34E8EDFEA6</td>\n",
       "      <td>1000631129</td>\n",
       "      <td>PARCEL</td>\n",
       "      <td>8.89</td>\n",
       "      <td>2018-11-27</td>\n",
       "      <td>2018-11</td>\n",
       "      <td>2018-04</td>\n",
       "    </tr>\n",
       "    <tr>\n",
       "      <th>3</th>\n",
       "      <td>000005FBDE326C41E4E704C8B358BF34E8EDFEA6</td>\n",
       "      <td>1014957404</td>\n",
       "      <td>PARCEL</td>\n",
       "      <td>72.86</td>\n",
       "      <td>2019-02-17</td>\n",
       "      <td>2019-02</td>\n",
       "      <td>2018-04</td>\n",
       "    </tr>\n",
       "    <tr>\n",
       "      <th>4</th>\n",
       "      <td>0000072CE05DB4ADC5F347E6BFCAF2D2D6812823</td>\n",
       "      <td>890878046</td>\n",
       "      <td>PARCEL</td>\n",
       "      <td>31.90</td>\n",
       "      <td>2017-09-24</td>\n",
       "      <td>2017-09</td>\n",
       "      <td>2017-09</td>\n",
       "    </tr>\n",
       "  </tbody>\n",
       "</table>\n",
       "</div>"
      ],
      "text/plain": [
       "                                CUSTOMER_ID  ORDER_NUMBER DELIVERY_WAY  \\\n",
       "0  000005FBDE326C41E4E704C8B358BF34E8EDFEA6     948422457        TRUCK   \n",
       "1  000005FBDE326C41E4E704C8B358BF34E8EDFEA6     984927381       PARCEL   \n",
       "2  000005FBDE326C41E4E704C8B358BF34E8EDFEA6    1000631129       PARCEL   \n",
       "3  000005FBDE326C41E4E704C8B358BF34E8EDFEA6    1014957404       PARCEL   \n",
       "4  0000072CE05DB4ADC5F347E6BFCAF2D2D6812823     890878046       PARCEL   \n",
       "\n",
       "   TOT_ORDER_VALUE ORDER_DATE ORDER_PERIOD COHORT_GROUP  \n",
       "0           216.00 2018-04-10      2018-04      2018-04  \n",
       "1            53.88 2018-07-24      2018-07      2018-04  \n",
       "2             8.89 2018-11-27      2018-11      2018-04  \n",
       "3            72.86 2019-02-17      2019-02      2018-04  \n",
       "4            31.90 2017-09-24      2017-09      2017-09  "
      ]
     },
     "execution_count": 21,
     "metadata": {},
     "output_type": "execute_result"
    }
   ],
   "source": [
    "# Determine the user's cohort group i.e. order period of their first order\n",
    "df3.set_index(['CUSTOMER_ID'], inplace=True)\n",
    "\n",
    "df3['COHORT_GROUP'] = df3.groupby(level=0)['ORDER_DATE'].min().apply(lambda x: x.strftime('%Y-%m'))\n",
    "df3.reset_index(inplace=True)\n",
    "df3.head()"
   ]
  },
  {
   "cell_type": "code",
   "execution_count": 30,
   "metadata": {},
   "outputs": [],
   "source": [
    "df4 = df3.copy()"
   ]
  },
  {
   "cell_type": "code",
   "execution_count": 31,
   "metadata": {},
   "outputs": [
    {
     "data": {
      "text/html": [
       "<div>\n",
       "<style scoped>\n",
       "    .dataframe tbody tr th:only-of-type {\n",
       "        vertical-align: middle;\n",
       "    }\n",
       "\n",
       "    .dataframe tbody tr th {\n",
       "        vertical-align: top;\n",
       "    }\n",
       "\n",
       "    .dataframe thead th {\n",
       "        text-align: right;\n",
       "    }\n",
       "</style>\n",
       "<table border=\"1\" class=\"dataframe\">\n",
       "  <thead>\n",
       "    <tr style=\"text-align: right;\">\n",
       "      <th></th>\n",
       "      <th>CUSTOMER_ID</th>\n",
       "      <th>ORDER_NUMBER</th>\n",
       "      <th>DELIVERY_WAY</th>\n",
       "      <th>TOT_ORDER_VALUE</th>\n",
       "      <th>ORDER_DATE</th>\n",
       "      <th>ORDER_PERIOD</th>\n",
       "      <th>COHORT_GROUP</th>\n",
       "      <th>DELIVERY_WAY_TRUCK</th>\n",
       "      <th>DELIVERY_WAY_PARCEL</th>\n",
       "    </tr>\n",
       "  </thead>\n",
       "  <tbody>\n",
       "    <tr>\n",
       "      <th>0</th>\n",
       "      <td>000005FBDE326C41E4E704C8B358BF34E8EDFEA6</td>\n",
       "      <td>948422457</td>\n",
       "      <td>TRUCK</td>\n",
       "      <td>216.00</td>\n",
       "      <td>2018-04-10</td>\n",
       "      <td>2018-04</td>\n",
       "      <td>2018-04</td>\n",
       "      <td>TRUCK</td>\n",
       "      <td>TRUCK</td>\n",
       "    </tr>\n",
       "    <tr>\n",
       "      <th>1</th>\n",
       "      <td>000005FBDE326C41E4E704C8B358BF34E8EDFEA6</td>\n",
       "      <td>984927381</td>\n",
       "      <td>PARCEL</td>\n",
       "      <td>53.88</td>\n",
       "      <td>2018-07-24</td>\n",
       "      <td>2018-07</td>\n",
       "      <td>2018-04</td>\n",
       "      <td>PARCEL</td>\n",
       "      <td>PARCEL</td>\n",
       "    </tr>\n",
       "    <tr>\n",
       "      <th>2</th>\n",
       "      <td>000005FBDE326C41E4E704C8B358BF34E8EDFEA6</td>\n",
       "      <td>1000631129</td>\n",
       "      <td>PARCEL</td>\n",
       "      <td>8.89</td>\n",
       "      <td>2018-11-27</td>\n",
       "      <td>2018-11</td>\n",
       "      <td>2018-04</td>\n",
       "      <td>PARCEL</td>\n",
       "      <td>PARCEL</td>\n",
       "    </tr>\n",
       "    <tr>\n",
       "      <th>3</th>\n",
       "      <td>000005FBDE326C41E4E704C8B358BF34E8EDFEA6</td>\n",
       "      <td>1014957404</td>\n",
       "      <td>PARCEL</td>\n",
       "      <td>72.86</td>\n",
       "      <td>2019-02-17</td>\n",
       "      <td>2019-02</td>\n",
       "      <td>2018-04</td>\n",
       "      <td>PARCEL</td>\n",
       "      <td>PARCEL</td>\n",
       "    </tr>\n",
       "    <tr>\n",
       "      <th>4</th>\n",
       "      <td>0000072CE05DB4ADC5F347E6BFCAF2D2D6812823</td>\n",
       "      <td>890878046</td>\n",
       "      <td>PARCEL</td>\n",
       "      <td>31.90</td>\n",
       "      <td>2017-09-24</td>\n",
       "      <td>2017-09</td>\n",
       "      <td>2017-09</td>\n",
       "      <td>PARCEL</td>\n",
       "      <td>PARCEL</td>\n",
       "    </tr>\n",
       "  </tbody>\n",
       "</table>\n",
       "</div>"
      ],
      "text/plain": [
       "                                CUSTOMER_ID  ORDER_NUMBER DELIVERY_WAY  \\\n",
       "0  000005FBDE326C41E4E704C8B358BF34E8EDFEA6     948422457        TRUCK   \n",
       "1  000005FBDE326C41E4E704C8B358BF34E8EDFEA6     984927381       PARCEL   \n",
       "2  000005FBDE326C41E4E704C8B358BF34E8EDFEA6    1000631129       PARCEL   \n",
       "3  000005FBDE326C41E4E704C8B358BF34E8EDFEA6    1014957404       PARCEL   \n",
       "4  0000072CE05DB4ADC5F347E6BFCAF2D2D6812823     890878046       PARCEL   \n",
       "\n",
       "   TOT_ORDER_VALUE ORDER_DATE ORDER_PERIOD COHORT_GROUP DELIVERY_WAY_TRUCK  \\\n",
       "0           216.00 2018-04-10      2018-04      2018-04              TRUCK   \n",
       "1            53.88 2018-07-24      2018-07      2018-04             PARCEL   \n",
       "2             8.89 2018-11-27      2018-11      2018-04             PARCEL   \n",
       "3            72.86 2019-02-17      2019-02      2018-04             PARCEL   \n",
       "4            31.90 2017-09-24      2017-09      2017-09             PARCEL   \n",
       "\n",
       "  DELIVERY_WAY_PARCEL  \n",
       "0               TRUCK  \n",
       "1              PARCEL  \n",
       "2              PARCEL  \n",
       "3              PARCEL  \n",
       "4              PARCEL  "
      ]
     },
     "execution_count": 31,
     "metadata": {},
     "output_type": "execute_result"
    }
   ],
   "source": [
    "df4['DELIVERY_WAY_TRUCK'] = df4['DELIVERY_WAY'].copy()\n",
    "df4['DELIVERY_WAY_PARCEL'] = df4['DELIVERY_WAY'].copy()\n",
    "df4.head()"
   ]
  },
  {
   "cell_type": "code",
   "execution_count": 32,
   "metadata": {},
   "outputs": [
    {
     "data": {
      "text/html": [
       "<div>\n",
       "<style scoped>\n",
       "    .dataframe tbody tr th:only-of-type {\n",
       "        vertical-align: middle;\n",
       "    }\n",
       "\n",
       "    .dataframe tbody tr th {\n",
       "        vertical-align: top;\n",
       "    }\n",
       "\n",
       "    .dataframe thead th {\n",
       "        text-align: right;\n",
       "    }\n",
       "</style>\n",
       "<table border=\"1\" class=\"dataframe\">\n",
       "  <thead>\n",
       "    <tr style=\"text-align: right;\">\n",
       "      <th></th>\n",
       "      <th>CUSTOMER_ID</th>\n",
       "      <th>ORDER_NUMBER</th>\n",
       "      <th>DELIVERY_WAY</th>\n",
       "      <th>TOT_ORDER_VALUE</th>\n",
       "      <th>ORDER_DATE</th>\n",
       "      <th>ORDER_PERIOD</th>\n",
       "      <th>COHORT_GROUP</th>\n",
       "      <th>DELIVERY_WAY_TRUCK</th>\n",
       "      <th>DELIVERY_WAY_PARCEL</th>\n",
       "    </tr>\n",
       "  </thead>\n",
       "  <tbody>\n",
       "    <tr>\n",
       "      <th>0</th>\n",
       "      <td>000005FBDE326C41E4E704C8B358BF34E8EDFEA6</td>\n",
       "      <td>948422457</td>\n",
       "      <td>TRUCK</td>\n",
       "      <td>216.00</td>\n",
       "      <td>2018-04-10</td>\n",
       "      <td>2018-04</td>\n",
       "      <td>2018-04</td>\n",
       "      <td>TRUCK</td>\n",
       "      <td>NaN</td>\n",
       "    </tr>\n",
       "    <tr>\n",
       "      <th>1</th>\n",
       "      <td>000005FBDE326C41E4E704C8B358BF34E8EDFEA6</td>\n",
       "      <td>984927381</td>\n",
       "      <td>PARCEL</td>\n",
       "      <td>53.88</td>\n",
       "      <td>2018-07-24</td>\n",
       "      <td>2018-07</td>\n",
       "      <td>2018-04</td>\n",
       "      <td>NaN</td>\n",
       "      <td>PARCEL</td>\n",
       "    </tr>\n",
       "    <tr>\n",
       "      <th>2</th>\n",
       "      <td>000005FBDE326C41E4E704C8B358BF34E8EDFEA6</td>\n",
       "      <td>1000631129</td>\n",
       "      <td>PARCEL</td>\n",
       "      <td>8.89</td>\n",
       "      <td>2018-11-27</td>\n",
       "      <td>2018-11</td>\n",
       "      <td>2018-04</td>\n",
       "      <td>NaN</td>\n",
       "      <td>PARCEL</td>\n",
       "    </tr>\n",
       "    <tr>\n",
       "      <th>3</th>\n",
       "      <td>000005FBDE326C41E4E704C8B358BF34E8EDFEA6</td>\n",
       "      <td>1014957404</td>\n",
       "      <td>PARCEL</td>\n",
       "      <td>72.86</td>\n",
       "      <td>2019-02-17</td>\n",
       "      <td>2019-02</td>\n",
       "      <td>2018-04</td>\n",
       "      <td>NaN</td>\n",
       "      <td>PARCEL</td>\n",
       "    </tr>\n",
       "    <tr>\n",
       "      <th>4</th>\n",
       "      <td>0000072CE05DB4ADC5F347E6BFCAF2D2D6812823</td>\n",
       "      <td>890878046</td>\n",
       "      <td>PARCEL</td>\n",
       "      <td>31.90</td>\n",
       "      <td>2017-09-24</td>\n",
       "      <td>2017-09</td>\n",
       "      <td>2017-09</td>\n",
       "      <td>NaN</td>\n",
       "      <td>PARCEL</td>\n",
       "    </tr>\n",
       "  </tbody>\n",
       "</table>\n",
       "</div>"
      ],
      "text/plain": [
       "                                CUSTOMER_ID  ORDER_NUMBER DELIVERY_WAY  \\\n",
       "0  000005FBDE326C41E4E704C8B358BF34E8EDFEA6     948422457        TRUCK   \n",
       "1  000005FBDE326C41E4E704C8B358BF34E8EDFEA6     984927381       PARCEL   \n",
       "2  000005FBDE326C41E4E704C8B358BF34E8EDFEA6    1000631129       PARCEL   \n",
       "3  000005FBDE326C41E4E704C8B358BF34E8EDFEA6    1014957404       PARCEL   \n",
       "4  0000072CE05DB4ADC5F347E6BFCAF2D2D6812823     890878046       PARCEL   \n",
       "\n",
       "   TOT_ORDER_VALUE ORDER_DATE ORDER_PERIOD COHORT_GROUP DELIVERY_WAY_TRUCK  \\\n",
       "0           216.00 2018-04-10      2018-04      2018-04              TRUCK   \n",
       "1            53.88 2018-07-24      2018-07      2018-04                NaN   \n",
       "2             8.89 2018-11-27      2018-11      2018-04                NaN   \n",
       "3            72.86 2019-02-17      2019-02      2018-04                NaN   \n",
       "4            31.90 2017-09-24      2017-09      2017-09                NaN   \n",
       "\n",
       "  DELIVERY_WAY_PARCEL  \n",
       "0                 NaN  \n",
       "1              PARCEL  \n",
       "2              PARCEL  \n",
       "3              PARCEL  \n",
       "4              PARCEL  "
      ]
     },
     "execution_count": 32,
     "metadata": {},
     "output_type": "execute_result"
    }
   ],
   "source": [
    "df4.loc[((df4['DELIVERY_WAY_TRUCK'] != 'TRUCK') & (df4['DELIVERY_WAY_TRUCK'] != 'MIXED ORDER')), 'DELIVERY_WAY_TRUCK'] = np.nan\n",
    "df4.loc[df4['DELIVERY_WAY_PARCEL'] != 'PARCEL', 'DELIVERY_WAY_PARCEL'] = np.nan\n",
    "df4.head()"
   ]
  },
  {
   "cell_type": "code",
   "execution_count": 33,
   "metadata": {},
   "outputs": [],
   "source": [
    "df4['AVG_ORDER_VALUE'] = df4['TOT_ORDER_VALUE'].copy()"
   ]
  },
  {
   "cell_type": "code",
   "execution_count": null,
   "metadata": {},
   "outputs": [],
   "source": [
    "grouped = df4.groupby(['COHORT_GROUP', 'ORDER_PERIOD'])\n",
    "\n",
    "# Count of unique customers, orders, and total sales per cohort Group and order period\n",
    "cohorts = grouped.agg({'CUSTOMER_ID': pd.Series.nunique,\n",
    "                       'ORDER_NUMBER': pd.Series.nunique,\n",
    "                       'DELIVERY_WAY_TRUCK': pd.Series.count,\n",
    "                       'DELIVERY_WAY_PARCEL': pd.Series.count,\n",
    "                       'TOT_ORDER_VALUE': np.sum,\n",
    "                       'AVG_ORDER_VALUE': np.average})\n",
    "\n",
    "# Rename the columns first\n",
    "cohorts.rename(columns={'CUSTOMER_ID': 'TOTAL_CUSTOMERS',\n",
    "                        'ORDER_NUMBER': 'TOTAL_ORDERS'}, inplace=True)\n",
    "cohorts.head()"
   ]
  },
  {
   "cell_type": "code",
   "execution_count": null,
   "metadata": {},
   "outputs": [],
   "source": [
    "def cohort_period(df):\n",
    "    df['COHORT_PERIOD'] = np.arange(len(df)) + 1\n",
    "    return df\n",
    "\n",
    "cohorts = cohorts.groupby(level=0).apply(cohort_period)\n",
    "cohorts.head()"
   ]
  },
  {
   "cell_type": "markdown",
   "metadata": {},
   "source": [
    "## Customer retention - numbers per cohort group"
   ]
  },
  {
   "cell_type": "code",
   "execution_count": null,
   "metadata": {},
   "outputs": [],
   "source": [
    "# reindex the DataFrame\n",
    "cohorts.reset_index(inplace=True)\n",
    "cohorts.set_index(['COHORT_GROUP', 'COHORT_PERIOD'], inplace=True)\n",
    "\n",
    "# create a Series holding the total size of each CohortGroup\n",
    "cohort_group_size = cohorts['TOTAL_CUSTOMERS'].groupby(level=0).first()\n",
    "cohort_group_size.head()"
   ]
  },
  {
   "cell_type": "code",
   "execution_count": null,
   "metadata": {},
   "outputs": [],
   "source": [
    "cust_retention_abs = cohorts['TOTAL_CUSTOMERS'].unstack(0)\n",
    "cust_retention_abs.head()"
   ]
  },
  {
   "cell_type": "code",
   "execution_count": null,
   "metadata": {},
   "outputs": [],
   "source": [
    "cust_retention = cohorts['TOTAL_CUSTOMERS'].unstack(0).divide(cohort_group_size, axis=1)\n",
    "cust_retention.head()"
   ]
  },
  {
   "cell_type": "code",
   "execution_count": null,
   "metadata": {},
   "outputs": [],
   "source": [
    "cust_retention_abs[['2018-10', '2018-11', '2018-12', '2019-01']].head(15)"
   ]
  },
  {
   "cell_type": "code",
   "execution_count": null,
   "metadata": {},
   "outputs": [],
   "source": [
    "cust_retention[['2018-10', '2018-11', '2018-12', '2019-01']].head(15)"
   ]
  },
  {
   "cell_type": "code",
   "execution_count": null,
   "metadata": {},
   "outputs": [],
   "source": [
    "cust_retention[['2018-10', '2018-11', '2018-12', '2019-01']].plot(figsize=(16,8))\n",
    "plt.title('Cohorts: Customer Retention')\n",
    "plt.xticks(np.arange(1, 12.1, 1))\n",
    "plt.xlim(1, 12)\n",
    "plt.ylabel('% of Cohort Purchasing');"
   ]
  },
  {
   "cell_type": "code",
   "execution_count": null,
   "metadata": {},
   "outputs": [],
   "source": [
    "cust_retention[['2018-10', '2018-11', '2018-12', '2019-01']].plot(figsize=(16,8))\n",
    "plt.title('Cohorts: Customer Retention')\n",
    "plt.xticks(np.arange(1, 12.1, 1))\n",
    "plt.xlim(1, 12)\n",
    "plt.ylim(0, 0.05)\n",
    "plt.ylabel('% of Cohort Purchasing');"
   ]
  },
  {
   "cell_type": "code",
   "execution_count": null,
   "metadata": {},
   "outputs": [],
   "source": [
    "cust_retention[['2016-10']].plot(figsize=(16,8))\n",
    "plt.title('Cohorts: Customer Retention')\n",
    "plt.xticks(np.arange(1, 40.1, 1))\n",
    "plt.xlim(1, 40)\n",
    "plt.ylabel('% of Cohort Purchasing');"
   ]
  },
  {
   "cell_type": "code",
   "execution_count": null,
   "metadata": {},
   "outputs": [],
   "source": [
    "sns.set(style='white')\n",
    "\n",
    "plt.figure(figsize=(24, 6))\n",
    "plt.title('Cohorts: Customer Retention')\n",
    "sns.heatmap(cust_retention[['2018-10', '2018-11', '2018-12', '2019-01']].T, mask=cust_retention[['2018-10', '2018-11', '2018-12', '2019-01']].T.isnull(), annot=True, fmt='.0%');"
   ]
  },
  {
   "cell_type": "code",
   "execution_count": null,
   "metadata": {},
   "outputs": [],
   "source": [
    "cust_retention2 = cust_retention[['2016-10', '2016-11', '2016-12', '2017-01', '2017-10', '2017-11', '2017-12', '2018-01', '2018-10', '2018-11', '2018-12', '2019-01']]\n",
    "cust_retention2.head()"
   ]
  },
  {
   "cell_type": "code",
   "execution_count": null,
   "metadata": {},
   "outputs": [],
   "source": [
    "cust_retention2.info()"
   ]
  },
  {
   "cell_type": "code",
   "execution_count": null,
   "metadata": {},
   "outputs": [],
   "source": [
    "cust_retention2 = cust_retention2.reset_index()\n",
    "\n",
    "cust_retention3 = cust_retention2[cust_retention2['COHORT_PERIOD']<=8]\n",
    "cust_retention3.head(15)"
   ]
  },
  {
   "cell_type": "code",
   "execution_count": null,
   "metadata": {},
   "outputs": [],
   "source": [
    "cust_retention3.loc['SummedUp'] = cust_retention3.sum() - 1\n",
    "cust_retention3.head(10)"
   ]
  },
  {
   "cell_type": "code",
   "execution_count": null,
   "metadata": {},
   "outputs": [],
   "source": [
    "cust_retention4 = cust_retention3[(cust_retention3['COHORT_PERIOD']<2) | (cust_retention3['COHORT_PERIOD']>9)]"
   ]
  },
  {
   "cell_type": "code",
   "execution_count": null,
   "metadata": {},
   "outputs": [],
   "source": [
    "cust_retention4 = cust_retention4[['COHORT_PERIOD', '2016-10', '2016-11', '2016-12', '2017-01', '2017-10', '2017-11', '2017-12', '2018-01', '2018-10', '2018-11', '2018-12', '2019-01']]\n",
    "cust_retention4.head()"
   ]
  },
  {
   "cell_type": "code",
   "execution_count": null,
   "metadata": {},
   "outputs": [],
   "source": [
    "cust_retention4.T.head()"
   ]
  },
  {
   "cell_type": "code",
   "execution_count": null,
   "metadata": {},
   "outputs": [],
   "source": [
    "cust_retention4 = cust_retention4.drop('COHORT_PERIOD', axis=1)"
   ]
  },
  {
   "cell_type": "code",
   "execution_count": 202,
   "metadata": {},
   "outputs": [],
   "source": [
    "cust_retention5 = cust_retention4.T\n",
    "cust_retention5.head()"
   ]
  },
  {
   "cell_type": "code",
   "execution_count": null,
   "metadata": {},
   "outputs": [],
   "source": [
    "cust_retention5.rename(columns={0: 'TOTAL_CUSTOMERS',\n",
    "                        'SummedUp': 'REPEAT_CUSTOMERS'}, inplace=True)\n",
    "\n",
    "cust_retention5.head(15)"
   ]
  },
  {
   "cell_type": "markdown",
   "metadata": {},
   "source": [
    "## Customer retention - sales per cohort group"
   ]
  },
  {
   "cell_type": "code",
   "execution_count": null,
   "metadata": {},
   "outputs": [],
   "source": [
    "# reindex the DataFrame\n",
    "cohorts.reset_index(inplace=True)\n",
    "cohorts.set_index(['COHORT_GROUP', 'COHORT_PERIOD'], inplace=True)\n",
    "\n",
    "# create a Series holding the total size of each CohortGroup\n",
    "cohort_group_size2 = cohorts['TOT_ORDER_VALUE'].groupby(level=0).first()\n",
    "cohort_group_size2.head()"
   ]
  },
  {
   "cell_type": "code",
   "execution_count": null,
   "metadata": {},
   "outputs": [],
   "source": [
    "sales_retention_abs = cohorts['TOT_ORDER_VALUE'].unstack(0)\n",
    "sales_retention_abs.head()"
   ]
  },
  {
   "cell_type": "code",
   "execution_count": null,
   "metadata": {},
   "outputs": [],
   "source": [
    "sales_retention = cohorts['TOT_ORDER_VALUE'].unstack(0).divide(cohort_group_size2, axis=1)\n",
    "sales_retention.head()"
   ]
  },
  {
   "cell_type": "code",
   "execution_count": null,
   "metadata": {},
   "outputs": [],
   "source": [
    "sales_retention_abs[['2018-10', '2018-11', '2018-12', '2019-01']].head(15)"
   ]
  },
  {
   "cell_type": "code",
   "execution_count": null,
   "metadata": {},
   "outputs": [],
   "source": [
    "sales_retention[['2018-10', '2018-11', '2018-12', '2019-01']].head(15)"
   ]
  },
  {
   "cell_type": "code",
   "execution_count": null,
   "metadata": {},
   "outputs": [],
   "source": [
    "sales_retention[['2018-10', '2018-11', '2018-12', '2019-01']].plot(figsize=(16,8))\n",
    "plt.title('Cohorts: Sales Retention')\n",
    "plt.xticks(np.arange(1, 12.1, 1))\n",
    "plt.xlim(1, 12)\n",
    "plt.ylabel('% of Cohort Purchasing');"
   ]
  },
  {
   "cell_type": "code",
   "execution_count": null,
   "metadata": {},
   "outputs": [],
   "source": [
    "sales_retention[['2016-12', '2017-12', '2018-12']].plot(figsize=(16,8))\n",
    "plt.title('Cohorts: Sales Retention')\n",
    "plt.xticks(np.arange(1, 40.1, 1))\n",
    "plt.xlim(2, 40)\n",
    "plt.ylim(0, 0.1)\n",
    "plt.ylabel('% of Cohort Purchasing');"
   ]
  },
  {
   "cell_type": "code",
   "execution_count": null,
   "metadata": {},
   "outputs": [],
   "source": [
    "sns.set(style='white')\n",
    "\n",
    "plt.figure(figsize=(24, 6))\n",
    "plt.title('Cohorts: Sales Retention')\n",
    "sns.heatmap(sales_retention[['2018-10', '2018-11', '2018-12', '2019-01']].T, mask=sales_retention[['2018-10', '2018-11', '2018-12', '2019-01']].T.isnull(), annot=True, fmt='.0%');"
   ]
  },
  {
   "cell_type": "code",
   "execution_count": null,
   "metadata": {},
   "outputs": [],
   "source": [
    "df_sales = sales_retention_abs[['2016-10', '2016-11', '2016-12', '2017-01', '2017-10', '2017-11', '2017-12', '2018-01', '2018-10', '2018-11', '2018-12', '2019-01']]\n",
    "df_sales.head()"
   ]
  },
  {
   "cell_type": "code",
   "execution_count": null,
   "metadata": {},
   "outputs": [],
   "source": [
    "df_sales.reset_index(inplace=True)\n",
    "\n",
    "df_sales2 = df_sales[df_sales['COHORT_PERIOD']<=8]\n",
    "df_sales2.head(15)"
   ]
  },
  {
   "cell_type": "code",
   "execution_count": null,
   "metadata": {},
   "outputs": [],
   "source": [
    "df_sales2.loc['SummedUp'] = df_sales2[1:8].sum()\n",
    "df_sales2.head(10)"
   ]
  },
  {
   "cell_type": "code",
   "execution_count": 162,
   "metadata": {},
   "outputs": [],
   "source": [
    "df_sales3 = df_sales2[(df_sales2['COHORT_PERIOD']<2) | (df_sales2['COHORT_PERIOD']>9)]"
   ]
  },
  {
   "cell_type": "code",
   "execution_count": 163,
   "metadata": {},
   "outputs": [],
   "source": [
    "df_sales3 = df_sales3.drop('COHORT_PERIOD', axis=1)"
   ]
  },
  {
   "cell_type": "code",
   "execution_count": 164,
   "metadata": {},
   "outputs": [],
   "source": [
    "df_sales4 = df_sales3.T"
   ]
  },
  {
   "cell_type": "code",
   "execution_count": null,
   "metadata": {},
   "outputs": [],
   "source": [
    "df_sales4.rename(columns={0: 'TOTAL_CUSTOMERS',\n",
    "                        'SummedUp': 'REPEAT_CUSTOMERS'}, inplace=True)\n",
    "\n",
    "df_sales4.head(15)"
   ]
  },
  {
   "cell_type": "markdown",
   "metadata": {},
   "source": [
    "# Delivery way pattern - Truck vs. Parcel "
   ]
  },
  {
   "cell_type": "code",
   "execution_count": null,
   "metadata": {},
   "outputs": [],
   "source": [
    "# reindex the DataFrame\n",
    "cohorts.reset_index(inplace=True)\n",
    "cohorts.set_index(['COHORT_GROUP', 'COHORT_PERIOD'], inplace=True)\n",
    "\n",
    "# create a Series holding the total size of each CohortGroup\n",
    "cohort_group_size3 = cohorts['DELIVERY_WAY_TRUCK'].groupby(level=0).first()\n",
    "cohort_group_size3.head()"
   ]
  },
  {
   "cell_type": "code",
   "execution_count": null,
   "metadata": {},
   "outputs": [],
   "source": [
    "truck_retention_abs = cohorts['DELIVERY_WAY_TRUCK'].unstack(0)\n",
    "truck_retention_abs.head()"
   ]
  },
  {
   "cell_type": "code",
   "execution_count": null,
   "metadata": {},
   "outputs": [],
   "source": [
    "truck_retention = cohorts['DELIVERY_WAY_TRUCK'].unstack(0).divide(cohort_group_size3, axis=1)\n",
    "truck_retention.head()"
   ]
  },
  {
   "cell_type": "code",
   "execution_count": null,
   "metadata": {},
   "outputs": [],
   "source": [
    "truck_retention_abs[['2018-10', '2018-11', '2018-12', '2019-01']].head(15)"
   ]
  },
  {
   "cell_type": "code",
   "execution_count": null,
   "metadata": {},
   "outputs": [],
   "source": [
    "truck_retention[['2018-10', '2018-11', '2018-12', '2019-01']].head(15)"
   ]
  },
  {
   "cell_type": "code",
   "execution_count": null,
   "metadata": {},
   "outputs": [],
   "source": [
    "# reindex the DataFrame\n",
    "cohorts.reset_index(inplace=True)\n",
    "cohorts.set_index(['COHORT_GROUP', 'COHORT_PERIOD'], inplace=True)\n",
    "\n",
    "# create a Series holding the total size of each CohortGroup\n",
    "cohort_group_size4 = cohorts['DELIVERY_WAY_PARCEL'].groupby(level=0).first()\n",
    "cohort_group_size4.head()"
   ]
  },
  {
   "cell_type": "code",
   "execution_count": null,
   "metadata": {},
   "outputs": [],
   "source": [
    "parcel_retention_abs = cohorts['DELIVERY_WAY_PARCEL'].unstack(0)\n",
    "parcel_retention_abs.head()"
   ]
  },
  {
   "cell_type": "code",
   "execution_count": null,
   "metadata": {},
   "outputs": [],
   "source": [
    "parcel_retention = cohorts['DELIVERY_WAY_PARCEL'].unstack(0).divide(cohort_group_size4, axis=1)\n",
    "parcel_retention.head()"
   ]
  },
  {
   "cell_type": "code",
   "execution_count": null,
   "metadata": {},
   "outputs": [],
   "source": [
    "parcel_retention_abs[['2018-10', '2018-11', '2018-12', '2019-01']].head(15)"
   ]
  },
  {
   "cell_type": "code",
   "execution_count": null,
   "metadata": {},
   "outputs": [],
   "source": [
    "parcel_retention[['2018-10', '2018-11', '2018-12', '2019-01']].head(15)"
   ]
  },
  {
   "cell_type": "markdown",
   "metadata": {},
   "source": [
    "## Delivery way pattern - Truck vs. Parcel - II"
   ]
  },
  {
   "cell_type": "code",
   "execution_count": 90,
   "metadata": {},
   "outputs": [
    {
     "data": {
      "text/html": [
       "<div>\n",
       "<style scoped>\n",
       "    .dataframe tbody tr th:only-of-type {\n",
       "        vertical-align: middle;\n",
       "    }\n",
       "\n",
       "    .dataframe tbody tr th {\n",
       "        vertical-align: top;\n",
       "    }\n",
       "\n",
       "    .dataframe thead th {\n",
       "        text-align: right;\n",
       "    }\n",
       "</style>\n",
       "<table border=\"1\" class=\"dataframe\">\n",
       "  <thead>\n",
       "    <tr style=\"text-align: right;\">\n",
       "      <th></th>\n",
       "      <th>CUSTOMER_ID</th>\n",
       "      <th>ORDER_NUMBER</th>\n",
       "      <th>DELIVERY_WAY</th>\n",
       "      <th>TOT_ORDER_VALUE</th>\n",
       "      <th>ORDER_DATE</th>\n",
       "    </tr>\n",
       "  </thead>\n",
       "  <tbody>\n",
       "    <tr>\n",
       "      <th>0</th>\n",
       "      <td>1DDBBB23CF7FBFC6E6C01417D760BFD5F70BC942</td>\n",
       "      <td>1028888157</td>\n",
       "      <td>PARCEL</td>\n",
       "      <td>37.35</td>\n",
       "      <td>2019-04-26</td>\n",
       "    </tr>\n",
       "    <tr>\n",
       "      <th>1</th>\n",
       "      <td>C20FAEFB67F04E93E1E62520073815351CCD6803</td>\n",
       "      <td>1027897152</td>\n",
       "      <td>PARCEL</td>\n",
       "      <td>90.41</td>\n",
       "      <td>2019-04-26</td>\n",
       "    </tr>\n",
       "    <tr>\n",
       "      <th>2</th>\n",
       "      <td>5A52B990712FBBB3AF1147EAAE119521D992692F</td>\n",
       "      <td>1029271275</td>\n",
       "      <td>PARCEL</td>\n",
       "      <td>83.88</td>\n",
       "      <td>2019-04-28</td>\n",
       "    </tr>\n",
       "    <tr>\n",
       "      <th>3</th>\n",
       "      <td>B9766B56E1D8502843A6C160787BF2F47BDCB95A</td>\n",
       "      <td>1029297717</td>\n",
       "      <td>PARCEL</td>\n",
       "      <td>83.86</td>\n",
       "      <td>2019-04-29</td>\n",
       "    </tr>\n",
       "    <tr>\n",
       "      <th>4</th>\n",
       "      <td>CADEA044A42B1499BE2D7FDF2B172D963CE06D0B</td>\n",
       "      <td>1029326497</td>\n",
       "      <td>TRUCK</td>\n",
       "      <td>365.94</td>\n",
       "      <td>2019-04-29</td>\n",
       "    </tr>\n",
       "  </tbody>\n",
       "</table>\n",
       "</div>"
      ],
      "text/plain": [
       "                                CUSTOMER_ID  ORDER_NUMBER DELIVERY_WAY  \\\n",
       "0  1DDBBB23CF7FBFC6E6C01417D760BFD5F70BC942    1028888157       PARCEL   \n",
       "1  C20FAEFB67F04E93E1E62520073815351CCD6803    1027897152       PARCEL   \n",
       "2  5A52B990712FBBB3AF1147EAAE119521D992692F    1029271275       PARCEL   \n",
       "3  B9766B56E1D8502843A6C160787BF2F47BDCB95A    1029297717       PARCEL   \n",
       "4  CADEA044A42B1499BE2D7FDF2B172D963CE06D0B    1029326497        TRUCK   \n",
       "\n",
       "   TOT_ORDER_VALUE ORDER_DATE  \n",
       "0            37.35 2019-04-26  \n",
       "1            90.41 2019-04-26  \n",
       "2            83.88 2019-04-28  \n",
       "3            83.86 2019-04-29  \n",
       "4           365.94 2019-04-29  "
      ]
     },
     "execution_count": 90,
     "metadata": {},
     "output_type": "execute_result"
    }
   ],
   "source": [
    "df20 = df1.copy()\n",
    "df20.head()"
   ]
  },
  {
   "cell_type": "code",
   "execution_count": 91,
   "metadata": {},
   "outputs": [],
   "source": [
    "df20 = df20.sort_values(['CUSTOMER_ID', 'ORDER_DATE'])"
   ]
  },
  {
   "cell_type": "code",
   "execution_count": 92,
   "metadata": {},
   "outputs": [],
   "source": [
    "df20['CUSTOMER_ID_COPY'] = df20['CUSTOMER_ID']\n",
    "df20['ORDER_DATE_COPY'] = df20['ORDER_DATE']\n",
    "df20['CUSTOMER_ID_COPY'] = df20['CUSTOMER_ID'].shift(1)\n",
    "df20['ORDER_DATE_COPY'] = df20['ORDER_DATE'].shift(1)"
   ]
  },
  {
   "cell_type": "code",
   "execution_count": 93,
   "metadata": {},
   "outputs": [],
   "source": [
    "df20['DATE_DIFF'] = 5000\n",
    "df20.loc[df20['CUSTOMER_ID'] == df20['CUSTOMER_ID_COPY'], 'DATE_DIFF'] = (df20['ORDER_DATE'] - df20['ORDER_DATE_COPY']).dt.days"
   ]
  },
  {
   "cell_type": "code",
   "execution_count": 94,
   "metadata": {},
   "outputs": [],
   "source": [
    "df20 = df20[df20['DATE_DIFF'] > 30]"
   ]
  },
  {
   "cell_type": "code",
   "execution_count": 95,
   "metadata": {},
   "outputs": [
    {
     "data": {
      "text/html": [
       "<div>\n",
       "<style scoped>\n",
       "    .dataframe tbody tr th:only-of-type {\n",
       "        vertical-align: middle;\n",
       "    }\n",
       "\n",
       "    .dataframe tbody tr th {\n",
       "        vertical-align: top;\n",
       "    }\n",
       "\n",
       "    .dataframe thead th {\n",
       "        text-align: right;\n",
       "    }\n",
       "</style>\n",
       "<table border=\"1\" class=\"dataframe\">\n",
       "  <thead>\n",
       "    <tr style=\"text-align: right;\">\n",
       "      <th></th>\n",
       "      <th>CUSTOMER_ID</th>\n",
       "      <th>ORDER_NUMBER</th>\n",
       "      <th>DELIVERY_WAY</th>\n",
       "      <th>TOT_ORDER_VALUE</th>\n",
       "      <th>ORDER_DATE</th>\n",
       "      <th>CUSTOMER_ID_COPY</th>\n",
       "      <th>ORDER_DATE_COPY</th>\n",
       "      <th>DATE_DIFF</th>\n",
       "    </tr>\n",
       "  </thead>\n",
       "  <tbody>\n",
       "    <tr>\n",
       "      <th>3565529</th>\n",
       "      <td>000005FBDE326C41E4E704C8B358BF34E8EDFEA6</td>\n",
       "      <td>948422457</td>\n",
       "      <td>TRUCK</td>\n",
       "      <td>216.00</td>\n",
       "      <td>2018-04-10</td>\n",
       "      <td>NaN</td>\n",
       "      <td>NaT</td>\n",
       "      <td>5000.0</td>\n",
       "    </tr>\n",
       "    <tr>\n",
       "      <th>2757213</th>\n",
       "      <td>000005FBDE326C41E4E704C8B358BF34E8EDFEA6</td>\n",
       "      <td>984927381</td>\n",
       "      <td>PARCEL</td>\n",
       "      <td>53.88</td>\n",
       "      <td>2018-07-24</td>\n",
       "      <td>000005FBDE326C41E4E704C8B358BF34E8EDFEA6</td>\n",
       "      <td>2018-04-10</td>\n",
       "      <td>105.0</td>\n",
       "    </tr>\n",
       "    <tr>\n",
       "      <th>3877881</th>\n",
       "      <td>000005FBDE326C41E4E704C8B358BF34E8EDFEA6</td>\n",
       "      <td>1000631129</td>\n",
       "      <td>PARCEL</td>\n",
       "      <td>8.89</td>\n",
       "      <td>2018-11-27</td>\n",
       "      <td>000005FBDE326C41E4E704C8B358BF34E8EDFEA6</td>\n",
       "      <td>2018-07-24</td>\n",
       "      <td>126.0</td>\n",
       "    </tr>\n",
       "    <tr>\n",
       "      <th>1147355</th>\n",
       "      <td>000005FBDE326C41E4E704C8B358BF34E8EDFEA6</td>\n",
       "      <td>1014957404</td>\n",
       "      <td>PARCEL</td>\n",
       "      <td>72.86</td>\n",
       "      <td>2019-02-17</td>\n",
       "      <td>000005FBDE326C41E4E704C8B358BF34E8EDFEA6</td>\n",
       "      <td>2018-11-27</td>\n",
       "      <td>82.0</td>\n",
       "    </tr>\n",
       "    <tr>\n",
       "      <th>4242710</th>\n",
       "      <td>0000072CE05DB4ADC5F347E6BFCAF2D2D6812823</td>\n",
       "      <td>890878046</td>\n",
       "      <td>PARCEL</td>\n",
       "      <td>31.90</td>\n",
       "      <td>2017-09-24</td>\n",
       "      <td>000005FBDE326C41E4E704C8B358BF34E8EDFEA6</td>\n",
       "      <td>2019-02-17</td>\n",
       "      <td>5000.0</td>\n",
       "    </tr>\n",
       "  </tbody>\n",
       "</table>\n",
       "</div>"
      ],
      "text/plain": [
       "                                      CUSTOMER_ID  ORDER_NUMBER DELIVERY_WAY  \\\n",
       "3565529  000005FBDE326C41E4E704C8B358BF34E8EDFEA6     948422457        TRUCK   \n",
       "2757213  000005FBDE326C41E4E704C8B358BF34E8EDFEA6     984927381       PARCEL   \n",
       "3877881  000005FBDE326C41E4E704C8B358BF34E8EDFEA6    1000631129       PARCEL   \n",
       "1147355  000005FBDE326C41E4E704C8B358BF34E8EDFEA6    1014957404       PARCEL   \n",
       "4242710  0000072CE05DB4ADC5F347E6BFCAF2D2D6812823     890878046       PARCEL   \n",
       "\n",
       "         TOT_ORDER_VALUE ORDER_DATE                          CUSTOMER_ID_COPY  \\\n",
       "3565529           216.00 2018-04-10                                       NaN   \n",
       "2757213            53.88 2018-07-24  000005FBDE326C41E4E704C8B358BF34E8EDFEA6   \n",
       "3877881             8.89 2018-11-27  000005FBDE326C41E4E704C8B358BF34E8EDFEA6   \n",
       "1147355            72.86 2019-02-17  000005FBDE326C41E4E704C8B358BF34E8EDFEA6   \n",
       "4242710            31.90 2017-09-24  000005FBDE326C41E4E704C8B358BF34E8EDFEA6   \n",
       "\n",
       "        ORDER_DATE_COPY  DATE_DIFF  \n",
       "3565529             NaT     5000.0  \n",
       "2757213      2018-04-10      105.0  \n",
       "3877881      2018-07-24      126.0  \n",
       "1147355      2018-11-27       82.0  \n",
       "4242710      2019-02-17     5000.0  "
      ]
     },
     "execution_count": 95,
     "metadata": {},
     "output_type": "execute_result"
    }
   ],
   "source": [
    "df20.head()"
   ]
  },
  {
   "cell_type": "code",
   "execution_count": 171,
   "metadata": {},
   "outputs": [],
   "source": [
    "df21 = df20.drop(['CUSTOMER_ID_COPY', 'ORDER_DATE_COPY'], axis=1)"
   ]
  },
  {
   "cell_type": "code",
   "execution_count": 172,
   "metadata": {},
   "outputs": [],
   "source": [
    "df21.loc[df21['DATE_DIFF']==5000, 'DATE_DIFF'] = np.nan"
   ]
  },
  {
   "cell_type": "code",
   "execution_count": 173,
   "metadata": {},
   "outputs": [],
   "source": [
    "df21['REPEAT_TIME'] = df21.groupby('CUSTOMER_ID').cumcount() + 1"
   ]
  },
  {
   "cell_type": "code",
   "execution_count": null,
   "metadata": {},
   "outputs": [],
   "source": [
    "df21['REPEAT_TIME'].value_counts()"
   ]
  },
  {
   "cell_type": "code",
   "execution_count": 175,
   "metadata": {},
   "outputs": [],
   "source": [
    "df21['REPEAT_CUST'] = 'Y'"
   ]
  },
  {
   "cell_type": "code",
   "execution_count": 176,
   "metadata": {},
   "outputs": [],
   "source": [
    "df21.loc[df21['REPEAT_TIME']==1, 'REPEAT_CUST'] = 'N'"
   ]
  },
  {
   "cell_type": "code",
   "execution_count": 177,
   "metadata": {},
   "outputs": [],
   "source": [
    "df21['REPEAT_CUST_PROSPECTIVE']= df21.duplicated(subset=['CUSTOMER_ID'], keep=False)"
   ]
  },
  {
   "cell_type": "code",
   "execution_count": 178,
   "metadata": {},
   "outputs": [
    {
     "data": {
      "text/html": [
       "<div>\n",
       "<style scoped>\n",
       "    .dataframe tbody tr th:only-of-type {\n",
       "        vertical-align: middle;\n",
       "    }\n",
       "\n",
       "    .dataframe tbody tr th {\n",
       "        vertical-align: top;\n",
       "    }\n",
       "\n",
       "    .dataframe thead th {\n",
       "        text-align: right;\n",
       "    }\n",
       "</style>\n",
       "<table border=\"1\" class=\"dataframe\">\n",
       "  <thead>\n",
       "    <tr style=\"text-align: right;\">\n",
       "      <th></th>\n",
       "      <th>CUSTOMER_ID</th>\n",
       "      <th>ORDER_NUMBER</th>\n",
       "      <th>DELIVERY_WAY</th>\n",
       "      <th>TOT_ORDER_VALUE</th>\n",
       "      <th>ORDER_DATE</th>\n",
       "      <th>DATE_DIFF</th>\n",
       "      <th>REPEAT_TIME</th>\n",
       "      <th>REPEAT_CUST</th>\n",
       "      <th>REPEAT_CUST_PROSPECTIVE</th>\n",
       "    </tr>\n",
       "  </thead>\n",
       "  <tbody>\n",
       "    <tr>\n",
       "      <th>3565529</th>\n",
       "      <td>000005FBDE326C41E4E704C8B358BF34E8EDFEA6</td>\n",
       "      <td>948422457</td>\n",
       "      <td>TRUCK</td>\n",
       "      <td>216.00</td>\n",
       "      <td>2018-04-10</td>\n",
       "      <td>NaN</td>\n",
       "      <td>1</td>\n",
       "      <td>N</td>\n",
       "      <td>True</td>\n",
       "    </tr>\n",
       "    <tr>\n",
       "      <th>2757213</th>\n",
       "      <td>000005FBDE326C41E4E704C8B358BF34E8EDFEA6</td>\n",
       "      <td>984927381</td>\n",
       "      <td>PARCEL</td>\n",
       "      <td>53.88</td>\n",
       "      <td>2018-07-24</td>\n",
       "      <td>105.0</td>\n",
       "      <td>2</td>\n",
       "      <td>Y</td>\n",
       "      <td>True</td>\n",
       "    </tr>\n",
       "    <tr>\n",
       "      <th>3877881</th>\n",
       "      <td>000005FBDE326C41E4E704C8B358BF34E8EDFEA6</td>\n",
       "      <td>1000631129</td>\n",
       "      <td>PARCEL</td>\n",
       "      <td>8.89</td>\n",
       "      <td>2018-11-27</td>\n",
       "      <td>126.0</td>\n",
       "      <td>3</td>\n",
       "      <td>Y</td>\n",
       "      <td>True</td>\n",
       "    </tr>\n",
       "    <tr>\n",
       "      <th>1147355</th>\n",
       "      <td>000005FBDE326C41E4E704C8B358BF34E8EDFEA6</td>\n",
       "      <td>1014957404</td>\n",
       "      <td>PARCEL</td>\n",
       "      <td>72.86</td>\n",
       "      <td>2019-02-17</td>\n",
       "      <td>82.0</td>\n",
       "      <td>4</td>\n",
       "      <td>Y</td>\n",
       "      <td>True</td>\n",
       "    </tr>\n",
       "    <tr>\n",
       "      <th>4242710</th>\n",
       "      <td>0000072CE05DB4ADC5F347E6BFCAF2D2D6812823</td>\n",
       "      <td>890878046</td>\n",
       "      <td>PARCEL</td>\n",
       "      <td>31.90</td>\n",
       "      <td>2017-09-24</td>\n",
       "      <td>NaN</td>\n",
       "      <td>1</td>\n",
       "      <td>N</td>\n",
       "      <td>False</td>\n",
       "    </tr>\n",
       "  </tbody>\n",
       "</table>\n",
       "</div>"
      ],
      "text/plain": [
       "                                      CUSTOMER_ID  ORDER_NUMBER DELIVERY_WAY  \\\n",
       "3565529  000005FBDE326C41E4E704C8B358BF34E8EDFEA6     948422457        TRUCK   \n",
       "2757213  000005FBDE326C41E4E704C8B358BF34E8EDFEA6     984927381       PARCEL   \n",
       "3877881  000005FBDE326C41E4E704C8B358BF34E8EDFEA6    1000631129       PARCEL   \n",
       "1147355  000005FBDE326C41E4E704C8B358BF34E8EDFEA6    1014957404       PARCEL   \n",
       "4242710  0000072CE05DB4ADC5F347E6BFCAF2D2D6812823     890878046       PARCEL   \n",
       "\n",
       "         TOT_ORDER_VALUE ORDER_DATE  DATE_DIFF  REPEAT_TIME REPEAT_CUST  \\\n",
       "3565529           216.00 2018-04-10        NaN            1           N   \n",
       "2757213            53.88 2018-07-24      105.0            2           Y   \n",
       "3877881             8.89 2018-11-27      126.0            3           Y   \n",
       "1147355            72.86 2019-02-17       82.0            4           Y   \n",
       "4242710            31.90 2017-09-24        NaN            1           N   \n",
       "\n",
       "         REPEAT_CUST_PROSPECTIVE  \n",
       "3565529                     True  \n",
       "2757213                     True  \n",
       "3877881                     True  \n",
       "1147355                     True  \n",
       "4242710                    False  "
      ]
     },
     "execution_count": 178,
     "metadata": {},
     "output_type": "execute_result"
    }
   ],
   "source": [
    "df22 = df21.copy()\n",
    "df22.head()"
   ]
  },
  {
   "cell_type": "code",
   "execution_count": null,
   "metadata": {},
   "outputs": [],
   "source": [
    "df22['DELIVERY_WAY'].value_counts()"
   ]
  },
  {
   "cell_type": "code",
   "execution_count": null,
   "metadata": {},
   "outputs": [],
   "source": [
    "df22['DELIVERY_WAY'].value_counts(normalize=True).plot.bar(title='Order Status')"
   ]
  },
  {
   "cell_type": "code",
   "execution_count": null,
   "metadata": {},
   "outputs": [],
   "source": [
    "df22.loc[df22['DELIVERY_WAY']=='MIXED ORDER', 'DELIVERY_WAY'] = 'TRUCK'\n",
    "df22['DELIVERY_WAY'].value_counts(normalize=True).plot.bar(title='Delivery way share')"
   ]
  },
  {
   "cell_type": "code",
   "execution_count": null,
   "metadata": {},
   "outputs": [],
   "source": [
    "p1 = round((len(df22[(df22['REPEAT_TIME']==1) & (df22['DELIVERY_WAY']=='PARCEL')]) / len(df22)) * 100, 2)\n",
    "t1 = round((len(df22[(df22['REPEAT_TIME']==1) & (df22['DELIVERY_WAY']=='TRUCK')]) / len(df22)) * 100, 2)\n",
    "print(\"Perct. of parcel orders placed by first time customers: \" + str(p1) + '%')\n",
    "print(\"Perct. of truck orders placed by first time customers: \" + str(t1) + '%')"
   ]
  },
  {
   "cell_type": "code",
   "execution_count": null,
   "metadata": {},
   "outputs": [],
   "source": [
    "p2 = round((len(df22[(df22['REPEAT_TIME']>1) & (df22['DELIVERY_WAY']=='PARCEL')]) / len(df22)) * 100, 2)\n",
    "t2 = round((len(df22[(df22['REPEAT_TIME']>1) & (df22['DELIVERY_WAY']=='TRUCK')]) / len(df22)) * 100, 2)\n",
    "print(\"Perct. of parcel orders placed by repeat customers: \" + str(p2) + '%')\n",
    "print(\"Perct. of truck orders placed by repeat customers: \" + str(t2) + '%')"
   ]
  },
  {
   "cell_type": "code",
   "execution_count": null,
   "metadata": {},
   "outputs": [],
   "source": [
    "print(\"Perct. of parcel orders by customers making repeat purchase in comparison to first time purchase: \" + str(round((p2/p1)*100, 2)) + '%')\n",
    "print(\"Perct. of truck orders by customers making repeat purchase in comparison to first time purchase: \" + str(round((t2/t1)*100, 2)) + '%')"
   ]
  },
  {
   "cell_type": "code",
   "execution_count": null,
   "metadata": {},
   "outputs": [],
   "source": [
    "df_parcel_first = df22[((df22['REPEAT_TIME']==1) & (df22['DELIVERY_WAY']=='PARCEL')) | (df22['REPEAT_TIME']>1)]\n",
    "df_parcel_first.head()"
   ]
  },
  {
   "cell_type": "code",
   "execution_count": null,
   "metadata": {},
   "outputs": [],
   "source": [
    "df_truck_first = df22[((df22['REPEAT_TIME']==1) & (df22['DELIVERY_WAY']=='TRUCK')) | (df22['REPEAT_TIME']>1)]\n",
    "df_truck_first.head()"
   ]
  },
  {
   "cell_type": "code",
   "execution_count": null,
   "metadata": {},
   "outputs": [],
   "source": [
    "print(\"Perct. of truck orders where first order is placed by parcel: \" + str(round((len(df_parcel_first[df_parcel_first['DELIVERY_WAY']=='TRUCK']) / len(df_parcel_first))*100, 2)) + '%')\n",
    "print(\"Perct. of parcel orders where first order is placed by truck: \" + str(round((len(df_truck_first[df_truck_first['DELIVERY_WAY']=='PARCEL']) / len(df_truck_first))*100, 2)) + '%')"
   ]
  },
  {
   "cell_type": "code",
   "execution_count": null,
   "metadata": {},
   "outputs": [],
   "source": [
    "print(\"Perct. of truck orders in repeat purchase where first order is placed by parcel: \" + str(round((len(df_parcel_first[df_parcel_first['DELIVERY_WAY']=='TRUCK']) / len(df_parcel_first[df_parcel_first['REPEAT_TIME']>1]))*100, 2)) + '%')\n",
    "print(\"Perct. of parcel orders in repeat purchase where first order is placed by truck: \" + str(round((len(df_truck_first[df_truck_first['DELIVERY_WAY']=='PARCEL']) / len(df_truck_first[df_truck_first['REPEAT_TIME']>1]))*100, 2)) + '%')"
   ]
  },
  {
   "cell_type": "markdown",
   "metadata": {},
   "source": [
    "# Average Order Value (AOV)"
   ]
  },
  {
   "cell_type": "code",
   "execution_count": 179,
   "metadata": {},
   "outputs": [
    {
     "data": {
      "text/html": [
       "<div>\n",
       "<style scoped>\n",
       "    .dataframe tbody tr th:only-of-type {\n",
       "        vertical-align: middle;\n",
       "    }\n",
       "\n",
       "    .dataframe tbody tr th {\n",
       "        vertical-align: top;\n",
       "    }\n",
       "\n",
       "    .dataframe thead th {\n",
       "        text-align: right;\n",
       "    }\n",
       "</style>\n",
       "<table border=\"1\" class=\"dataframe\">\n",
       "  <thead>\n",
       "    <tr style=\"text-align: right;\">\n",
       "      <th></th>\n",
       "      <th>CUSTOMER_ID</th>\n",
       "      <th>ORDER_NUMBER</th>\n",
       "      <th>DELIVERY_WAY</th>\n",
       "      <th>TOT_ORDER_VALUE</th>\n",
       "      <th>ORDER_DATE</th>\n",
       "      <th>DATE_DIFF</th>\n",
       "      <th>REPEAT_TIME</th>\n",
       "      <th>REPEAT_CUST</th>\n",
       "      <th>REPEAT_CUST_PROSPECTIVE</th>\n",
       "    </tr>\n",
       "  </thead>\n",
       "  <tbody>\n",
       "    <tr>\n",
       "      <th>3565529</th>\n",
       "      <td>000005FBDE326C41E4E704C8B358BF34E8EDFEA6</td>\n",
       "      <td>948422457</td>\n",
       "      <td>TRUCK</td>\n",
       "      <td>216.00</td>\n",
       "      <td>2018-04-10</td>\n",
       "      <td>NaN</td>\n",
       "      <td>1</td>\n",
       "      <td>N</td>\n",
       "      <td>True</td>\n",
       "    </tr>\n",
       "    <tr>\n",
       "      <th>2757213</th>\n",
       "      <td>000005FBDE326C41E4E704C8B358BF34E8EDFEA6</td>\n",
       "      <td>984927381</td>\n",
       "      <td>PARCEL</td>\n",
       "      <td>53.88</td>\n",
       "      <td>2018-07-24</td>\n",
       "      <td>105.0</td>\n",
       "      <td>2</td>\n",
       "      <td>Y</td>\n",
       "      <td>True</td>\n",
       "    </tr>\n",
       "    <tr>\n",
       "      <th>3877881</th>\n",
       "      <td>000005FBDE326C41E4E704C8B358BF34E8EDFEA6</td>\n",
       "      <td>1000631129</td>\n",
       "      <td>PARCEL</td>\n",
       "      <td>8.89</td>\n",
       "      <td>2018-11-27</td>\n",
       "      <td>126.0</td>\n",
       "      <td>3</td>\n",
       "      <td>Y</td>\n",
       "      <td>True</td>\n",
       "    </tr>\n",
       "    <tr>\n",
       "      <th>1147355</th>\n",
       "      <td>000005FBDE326C41E4E704C8B358BF34E8EDFEA6</td>\n",
       "      <td>1014957404</td>\n",
       "      <td>PARCEL</td>\n",
       "      <td>72.86</td>\n",
       "      <td>2019-02-17</td>\n",
       "      <td>82.0</td>\n",
       "      <td>4</td>\n",
       "      <td>Y</td>\n",
       "      <td>True</td>\n",
       "    </tr>\n",
       "    <tr>\n",
       "      <th>4242710</th>\n",
       "      <td>0000072CE05DB4ADC5F347E6BFCAF2D2D6812823</td>\n",
       "      <td>890878046</td>\n",
       "      <td>PARCEL</td>\n",
       "      <td>31.90</td>\n",
       "      <td>2017-09-24</td>\n",
       "      <td>NaN</td>\n",
       "      <td>1</td>\n",
       "      <td>N</td>\n",
       "      <td>False</td>\n",
       "    </tr>\n",
       "  </tbody>\n",
       "</table>\n",
       "</div>"
      ],
      "text/plain": [
       "                                      CUSTOMER_ID  ORDER_NUMBER DELIVERY_WAY  \\\n",
       "3565529  000005FBDE326C41E4E704C8B358BF34E8EDFEA6     948422457        TRUCK   \n",
       "2757213  000005FBDE326C41E4E704C8B358BF34E8EDFEA6     984927381       PARCEL   \n",
       "3877881  000005FBDE326C41E4E704C8B358BF34E8EDFEA6    1000631129       PARCEL   \n",
       "1147355  000005FBDE326C41E4E704C8B358BF34E8EDFEA6    1014957404       PARCEL   \n",
       "4242710  0000072CE05DB4ADC5F347E6BFCAF2D2D6812823     890878046       PARCEL   \n",
       "\n",
       "         TOT_ORDER_VALUE ORDER_DATE  DATE_DIFF  REPEAT_TIME REPEAT_CUST  \\\n",
       "3565529           216.00 2018-04-10        NaN            1           N   \n",
       "2757213            53.88 2018-07-24      105.0            2           Y   \n",
       "3877881             8.89 2018-11-27      126.0            3           Y   \n",
       "1147355            72.86 2019-02-17       82.0            4           Y   \n",
       "4242710            31.90 2017-09-24        NaN            1           N   \n",
       "\n",
       "         REPEAT_CUST_PROSPECTIVE  \n",
       "3565529                     True  \n",
       "2757213                     True  \n",
       "3877881                     True  \n",
       "1147355                     True  \n",
       "4242710                    False  "
      ]
     },
     "execution_count": 179,
     "metadata": {},
     "output_type": "execute_result"
    }
   ],
   "source": [
    "df30 = df21.copy()\n",
    "df30.head()"
   ]
  },
  {
   "cell_type": "code",
   "execution_count": null,
   "metadata": {},
   "outputs": [],
   "source": [
    "# Average order value for first time purchase made by the customers\n",
    "df31 = df30[df30['REPEAT_CUST']=='N']\n",
    "aov1 = df31['TOT_ORDER_VALUE'].mean()\n",
    "print(\"Average order value for first time purchase made by the customers: \" + str(round(aov1, 2)) + '€')"
   ]
  },
  {
   "cell_type": "code",
   "execution_count": null,
   "metadata": {},
   "outputs": [],
   "source": [
    "# Average order value for repeat purchase made by the customers\n",
    "df32 = df30[df30['REPEAT_CUST']=='Y']\n",
    "aov2 = df32['TOT_ORDER_VALUE'].mean()\n",
    "print(\"Average order value for repeat purchase made by the customers: \" + str(round(aov2, 2)) + '€')"
   ]
  },
  {
   "cell_type": "code",
   "execution_count": null,
   "metadata": {},
   "outputs": [],
   "source": [
    "# Average order value for one-time customers\n",
    "df33 = df30[df30['REPEAT_CUST_PROSPECTIVE']==False]\n",
    "aov3 = df33['TOT_ORDER_VALUE'].mean()\n",
    "print(\"Average order value for one-time customers: \" + str(round(aov3, 2)) + '€')"
   ]
  },
  {
   "cell_type": "code",
   "execution_count": null,
   "metadata": {},
   "outputs": [],
   "source": [
    "# Average order value for repeat customers\n",
    "df34 = df30[df30['REPEAT_CUST_PROSPECTIVE']==True]\n",
    "aov4 = df34['TOT_ORDER_VALUE'].mean()\n",
    "print(\"Average order value for repeat customers: \" + str(round(aov4, 2)) + '€')"
   ]
  },
  {
   "cell_type": "markdown",
   "metadata": {},
   "source": [
    "## Average time difference between repeat purchases"
   ]
  },
  {
   "cell_type": "code",
   "execution_count": 187,
   "metadata": {},
   "outputs": [
    {
     "data": {
      "text/html": [
       "<div>\n",
       "<style scoped>\n",
       "    .dataframe tbody tr th:only-of-type {\n",
       "        vertical-align: middle;\n",
       "    }\n",
       "\n",
       "    .dataframe tbody tr th {\n",
       "        vertical-align: top;\n",
       "    }\n",
       "\n",
       "    .dataframe thead th {\n",
       "        text-align: right;\n",
       "    }\n",
       "</style>\n",
       "<table border=\"1\" class=\"dataframe\">\n",
       "  <thead>\n",
       "    <tr style=\"text-align: right;\">\n",
       "      <th></th>\n",
       "      <th>CUSTOMER_ID</th>\n",
       "      <th>ORDER_NUMBER</th>\n",
       "      <th>DELIVERY_WAY</th>\n",
       "      <th>TOT_ORDER_VALUE</th>\n",
       "      <th>ORDER_DATE</th>\n",
       "      <th>DATE_DIFF</th>\n",
       "      <th>REPEAT_TIME</th>\n",
       "      <th>REPEAT_CUST</th>\n",
       "      <th>REPEAT_CUST_PROSPECTIVE</th>\n",
       "    </tr>\n",
       "  </thead>\n",
       "  <tbody>\n",
       "    <tr>\n",
       "      <th>3565529</th>\n",
       "      <td>000005FBDE326C41E4E704C8B358BF34E8EDFEA6</td>\n",
       "      <td>948422457</td>\n",
       "      <td>TRUCK</td>\n",
       "      <td>216.00</td>\n",
       "      <td>2018-04-10</td>\n",
       "      <td>NaN</td>\n",
       "      <td>1</td>\n",
       "      <td>N</td>\n",
       "      <td>True</td>\n",
       "    </tr>\n",
       "    <tr>\n",
       "      <th>2757213</th>\n",
       "      <td>000005FBDE326C41E4E704C8B358BF34E8EDFEA6</td>\n",
       "      <td>984927381</td>\n",
       "      <td>PARCEL</td>\n",
       "      <td>53.88</td>\n",
       "      <td>2018-07-24</td>\n",
       "      <td>105.0</td>\n",
       "      <td>2</td>\n",
       "      <td>Y</td>\n",
       "      <td>True</td>\n",
       "    </tr>\n",
       "    <tr>\n",
       "      <th>3877881</th>\n",
       "      <td>000005FBDE326C41E4E704C8B358BF34E8EDFEA6</td>\n",
       "      <td>1000631129</td>\n",
       "      <td>PARCEL</td>\n",
       "      <td>8.89</td>\n",
       "      <td>2018-11-27</td>\n",
       "      <td>126.0</td>\n",
       "      <td>3</td>\n",
       "      <td>Y</td>\n",
       "      <td>True</td>\n",
       "    </tr>\n",
       "    <tr>\n",
       "      <th>1147355</th>\n",
       "      <td>000005FBDE326C41E4E704C8B358BF34E8EDFEA6</td>\n",
       "      <td>1014957404</td>\n",
       "      <td>PARCEL</td>\n",
       "      <td>72.86</td>\n",
       "      <td>2019-02-17</td>\n",
       "      <td>82.0</td>\n",
       "      <td>4</td>\n",
       "      <td>Y</td>\n",
       "      <td>True</td>\n",
       "    </tr>\n",
       "    <tr>\n",
       "      <th>4242710</th>\n",
       "      <td>0000072CE05DB4ADC5F347E6BFCAF2D2D6812823</td>\n",
       "      <td>890878046</td>\n",
       "      <td>PARCEL</td>\n",
       "      <td>31.90</td>\n",
       "      <td>2017-09-24</td>\n",
       "      <td>NaN</td>\n",
       "      <td>1</td>\n",
       "      <td>N</td>\n",
       "      <td>False</td>\n",
       "    </tr>\n",
       "  </tbody>\n",
       "</table>\n",
       "</div>"
      ],
      "text/plain": [
       "                                      CUSTOMER_ID  ORDER_NUMBER DELIVERY_WAY  \\\n",
       "3565529  000005FBDE326C41E4E704C8B358BF34E8EDFEA6     948422457        TRUCK   \n",
       "2757213  000005FBDE326C41E4E704C8B358BF34E8EDFEA6     984927381       PARCEL   \n",
       "3877881  000005FBDE326C41E4E704C8B358BF34E8EDFEA6    1000631129       PARCEL   \n",
       "1147355  000005FBDE326C41E4E704C8B358BF34E8EDFEA6    1014957404       PARCEL   \n",
       "4242710  0000072CE05DB4ADC5F347E6BFCAF2D2D6812823     890878046       PARCEL   \n",
       "\n",
       "         TOT_ORDER_VALUE ORDER_DATE  DATE_DIFF  REPEAT_TIME REPEAT_CUST  \\\n",
       "3565529           216.00 2018-04-10        NaN            1           N   \n",
       "2757213            53.88 2018-07-24      105.0            2           Y   \n",
       "3877881             8.89 2018-11-27      126.0            3           Y   \n",
       "1147355            72.86 2019-02-17       82.0            4           Y   \n",
       "4242710            31.90 2017-09-24        NaN            1           N   \n",
       "\n",
       "         REPEAT_CUST_PROSPECTIVE  \n",
       "3565529                     True  \n",
       "2757213                     True  \n",
       "3877881                     True  \n",
       "1147355                     True  \n",
       "4242710                    False  "
      ]
     },
     "execution_count": 187,
     "metadata": {},
     "output_type": "execute_result"
    }
   ],
   "source": [
    "df40 = df21.copy()\n",
    "df40.head()"
   ]
  },
  {
   "cell_type": "code",
   "execution_count": 188,
   "metadata": {},
   "outputs": [
    {
     "data": {
      "text/html": [
       "<div>\n",
       "<style scoped>\n",
       "    .dataframe tbody tr th:only-of-type {\n",
       "        vertical-align: middle;\n",
       "    }\n",
       "\n",
       "    .dataframe tbody tr th {\n",
       "        vertical-align: top;\n",
       "    }\n",
       "\n",
       "    .dataframe thead th {\n",
       "        text-align: right;\n",
       "    }\n",
       "</style>\n",
       "<table border=\"1\" class=\"dataframe\">\n",
       "  <thead>\n",
       "    <tr style=\"text-align: right;\">\n",
       "      <th></th>\n",
       "      <th>CUSTOMER_ID</th>\n",
       "      <th>ORDER_NUMBER</th>\n",
       "      <th>DELIVERY_WAY</th>\n",
       "      <th>TOT_ORDER_VALUE</th>\n",
       "      <th>ORDER_DATE</th>\n",
       "      <th>DATE_DIFF</th>\n",
       "      <th>REPEAT_TIME</th>\n",
       "      <th>REPEAT_CUST</th>\n",
       "      <th>REPEAT_CUST_PROSPECTIVE</th>\n",
       "    </tr>\n",
       "  </thead>\n",
       "  <tbody>\n",
       "    <tr>\n",
       "      <th>2757213</th>\n",
       "      <td>000005FBDE326C41E4E704C8B358BF34E8EDFEA6</td>\n",
       "      <td>984927381</td>\n",
       "      <td>PARCEL</td>\n",
       "      <td>53.88</td>\n",
       "      <td>2018-07-24</td>\n",
       "      <td>105.0</td>\n",
       "      <td>2</td>\n",
       "      <td>Y</td>\n",
       "      <td>True</td>\n",
       "    </tr>\n",
       "    <tr>\n",
       "      <th>3877881</th>\n",
       "      <td>000005FBDE326C41E4E704C8B358BF34E8EDFEA6</td>\n",
       "      <td>1000631129</td>\n",
       "      <td>PARCEL</td>\n",
       "      <td>8.89</td>\n",
       "      <td>2018-11-27</td>\n",
       "      <td>126.0</td>\n",
       "      <td>3</td>\n",
       "      <td>Y</td>\n",
       "      <td>True</td>\n",
       "    </tr>\n",
       "    <tr>\n",
       "      <th>1147355</th>\n",
       "      <td>000005FBDE326C41E4E704C8B358BF34E8EDFEA6</td>\n",
       "      <td>1014957404</td>\n",
       "      <td>PARCEL</td>\n",
       "      <td>72.86</td>\n",
       "      <td>2019-02-17</td>\n",
       "      <td>82.0</td>\n",
       "      <td>4</td>\n",
       "      <td>Y</td>\n",
       "      <td>True</td>\n",
       "    </tr>\n",
       "    <tr>\n",
       "      <th>4452703</th>\n",
       "      <td>0000079504A6804D92750DE675806B393B0E0B58</td>\n",
       "      <td>852444743</td>\n",
       "      <td>TRUCK</td>\n",
       "      <td>869.99</td>\n",
       "      <td>2017-05-18</td>\n",
       "      <td>89.0</td>\n",
       "      <td>2</td>\n",
       "      <td>Y</td>\n",
       "      <td>True</td>\n",
       "    </tr>\n",
       "    <tr>\n",
       "      <th>452948</th>\n",
       "      <td>000014CD9D292F6218080879889666A16E1EDA9F</td>\n",
       "      <td>1001214583</td>\n",
       "      <td>PARCEL</td>\n",
       "      <td>103.89</td>\n",
       "      <td>2018-11-22</td>\n",
       "      <td>442.0</td>\n",
       "      <td>2</td>\n",
       "      <td>Y</td>\n",
       "      <td>True</td>\n",
       "    </tr>\n",
       "  </tbody>\n",
       "</table>\n",
       "</div>"
      ],
      "text/plain": [
       "                                      CUSTOMER_ID  ORDER_NUMBER DELIVERY_WAY  \\\n",
       "2757213  000005FBDE326C41E4E704C8B358BF34E8EDFEA6     984927381       PARCEL   \n",
       "3877881  000005FBDE326C41E4E704C8B358BF34E8EDFEA6    1000631129       PARCEL   \n",
       "1147355  000005FBDE326C41E4E704C8B358BF34E8EDFEA6    1014957404       PARCEL   \n",
       "4452703  0000079504A6804D92750DE675806B393B0E0B58     852444743        TRUCK   \n",
       "452948   000014CD9D292F6218080879889666A16E1EDA9F    1001214583       PARCEL   \n",
       "\n",
       "         TOT_ORDER_VALUE ORDER_DATE  DATE_DIFF  REPEAT_TIME REPEAT_CUST  \\\n",
       "2757213            53.88 2018-07-24      105.0            2           Y   \n",
       "3877881             8.89 2018-11-27      126.0            3           Y   \n",
       "1147355            72.86 2019-02-17       82.0            4           Y   \n",
       "4452703           869.99 2017-05-18       89.0            2           Y   \n",
       "452948            103.89 2018-11-22      442.0            2           Y   \n",
       "\n",
       "         REPEAT_CUST_PROSPECTIVE  \n",
       "2757213                     True  \n",
       "3877881                     True  \n",
       "1147355                     True  \n",
       "4452703                     True  \n",
       "452948                      True  "
      ]
     },
     "execution_count": 188,
     "metadata": {},
     "output_type": "execute_result"
    }
   ],
   "source": [
    "df41 = df40.dropna(subset=['DATE_DIFF'])\n",
    "df41.head()"
   ]
  },
  {
   "cell_type": "code",
   "execution_count": null,
   "metadata": {},
   "outputs": [],
   "source": [
    "tdf = df41['DATE_DIFF'].mean()\n",
    "print('Average time difference between repeat purchases: ' + str(int(tdf)) + ' days')"
   ]
  }
 ],
 "metadata": {
  "kernelspec": {
   "display_name": "Python 3",
   "language": "python",
   "name": "python3"
  },
  "language_info": {
   "codemirror_mode": {
    "name": "ipython",
    "version": 3
   },
   "file_extension": ".py",
   "mimetype": "text/x-python",
   "name": "python",
   "nbconvert_exporter": "python",
   "pygments_lexer": "ipython3",
   "version": "3.7.0"
  }
 },
 "nbformat": 4,
 "nbformat_minor": 2
}
